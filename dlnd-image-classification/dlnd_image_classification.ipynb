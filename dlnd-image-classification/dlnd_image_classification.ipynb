{
 "cells": [
  {
   "cell_type": "markdown",
   "metadata": {
    "collapsed": true
   },
   "source": [
    "# Image Classification\n",
    "In this project, you'll classify images from the [CIFAR-10 dataset](https://www.cs.toronto.edu/~kriz/cifar.html).  The dataset consists of airplanes, dogs, cats, and other objects. You'll preprocess the images, then train a convolutional neural network on all the samples. The images need to be normalized and the labels need to be one-hot encoded.  You'll get to apply what you learned and build a convolutional, max pooling, dropout, and fully connected layers.  At the end, you'll get to see your neural network's predictions on the sample images.\n",
    "## Get the Data\n",
    "Run the following cell to download the [CIFAR-10 dataset for python](https://www.cs.toronto.edu/~kriz/cifar-10-python.tar.gz)."
   ]
  },
  {
   "cell_type": "code",
   "execution_count": 1,
   "metadata": {
    "collapsed": false
   },
   "outputs": [
    {
     "name": "stderr",
     "output_type": "stream",
     "text": [
      "CIFAR-10 Dataset: 171MB [01:48, 1.57MB/s]                              \n"
     ]
    },
    {
     "name": "stdout",
     "output_type": "stream",
     "text": [
      "All files found!\n"
     ]
    }
   ],
   "source": [
    "\"\"\"\n",
    "DON'T MODIFY ANYTHING IN THIS CELL THAT IS BELOW THIS LINE\n",
    "\"\"\"\n",
    "from urllib.request import urlretrieve\n",
    "from os.path import isfile, isdir\n",
    "from tqdm import tqdm\n",
    "import problem_unittests as tests\n",
    "import tarfile\n",
    "\n",
    "cifar10_dataset_folder_path = 'cifar-10-batches-py'\n",
    "\n",
    "# Use Floyd's cifar-10 dataset if present\n",
    "floyd_cifar10_location = '/cifar/cifar-10-python.tar.gz'\n",
    "if isfile(floyd_cifar10_location):\n",
    "    tar_gz_path = floyd_cifar10_location\n",
    "else:\n",
    "    tar_gz_path = 'cifar-10-python.tar.gz'\n",
    "\n",
    "class DLProgress(tqdm):\n",
    "    last_block = 0\n",
    "\n",
    "    def hook(self, block_num=1, block_size=1, total_size=None):\n",
    "        self.total = total_size\n",
    "        self.update((block_num - self.last_block) * block_size)\n",
    "        self.last_block = block_num\n",
    "\n",
    "if not isfile(tar_gz_path):\n",
    "    with DLProgress(unit='B', unit_scale=True, miniters=1, desc='CIFAR-10 Dataset') as pbar:\n",
    "        urlretrieve(\n",
    "            'https://www.cs.toronto.edu/~kriz/cifar-10-python.tar.gz',\n",
    "            tar_gz_path,\n",
    "            pbar.hook)\n",
    "\n",
    "if not isdir(cifar10_dataset_folder_path):\n",
    "    with tarfile.open(tar_gz_path) as tar:\n",
    "        tar.extractall()\n",
    "        tar.close()\n",
    "\n",
    "\n",
    "tests.test_folder_path(cifar10_dataset_folder_path)"
   ]
  },
  {
   "cell_type": "markdown",
   "metadata": {},
   "source": [
    "## Explore the Data\n",
    "The dataset is broken into batches to prevent your machine from running out of memory.  The CIFAR-10 dataset consists of 5 batches, named `data_batch_1`, `data_batch_2`, etc.. Each batch contains the labels and images that are one of the following:\n",
    "* airplane\n",
    "* automobile\n",
    "* bird\n",
    "* cat\n",
    "* deer\n",
    "* dog\n",
    "* frog\n",
    "* horse\n",
    "* ship\n",
    "* truck\n",
    "\n",
    "Understanding a dataset is part of making predictions on the data.  Play around with the code cell below by changing the `batch_id` and `sample_id`. The `batch_id` is the id for a batch (1-5). The `sample_id` is the id for a image and label pair in the batch.\n",
    "\n",
    "Ask yourself \"What are all possible labels?\", \"What is the range of values for the image data?\", \"Are the labels in order or random?\".  Answers to questions like these will help you preprocess the data and end up with better predictions."
   ]
  },
  {
   "cell_type": "code",
   "execution_count": 2,
   "metadata": {
    "collapsed": false
   },
   "outputs": [
    {
     "name": "stdout",
     "output_type": "stream",
     "text": [
      "\n",
      "Stats of batch 1:\n",
      "Samples: 10000\n",
      "Label Counts: {0: 1005, 1: 974, 2: 1032, 3: 1016, 4: 999, 5: 937, 6: 1030, 7: 1001, 8: 1025, 9: 981}\n",
      "First 20 Labels: [6, 9, 9, 4, 1, 1, 2, 7, 8, 3, 4, 7, 7, 2, 9, 9, 9, 3, 2, 6]\n",
      "\n",
      "Example of Image 5:\n",
      "Image - Min Value: 0 Max Value: 252\n",
      "Image - Shape: (32, 32, 3)\n",
      "Label - Label Id: 1 Name: automobile\n"
     ]
    },
    {
     "data": {
      "image/png": "[encoded data removed]",
      "text/plain": [
       "<matplotlib.figure.Figure at 0x114c15f60>"
      ]
     },
     "metadata": {
      "image/png": {
       "height": 250,
       "width": 253
      }
     },
     "output_type": "display_data"
    }
   ],
   "source": [
    "%matplotlib inline\n",
    "%config InlineBackend.figure_format = 'retina'\n",
    "\n",
    "import helper\n",
    "import numpy as np\n",
    "\n",
    "# Explore the dataset\n",
    "batch_id = 1\n",
    "sample_id = 5\n",
    "helper.display_stats(cifar10_dataset_folder_path, batch_id, sample_id)"
   ]
  },
  {
   "cell_type": "markdown",
   "metadata": {},
   "source": [
    "## Implement Preprocess Functions\n",
    "### Normalize\n",
    "In the cell below, implement the `normalize` function to take in image data, `x`, and return it as a normalized Numpy array. The values should be in the range of 0 to 1, inclusive.  The return object should be the same shape as `x`."
   ]
  },
  {
   "cell_type": "code",
   "execution_count": 5,
   "metadata": {
    "collapsed": false
   },
   "outputs": [
    {
     "name": "stdout",
     "output_type": "stream",
     "text": [
      "Tests Passed\n"
     ]
    }
   ],
   "source": [
    "def normalize(x):\n",
    "    \"\"\"\n",
    "    Normalize a list of sample image data in the range of 0 to 1\n",
    "    : x: List of image data.  The image shape is (32, 32, 3)\n",
    "    : return: Numpy array of normalize data\n",
    "    \"\"\"\n",
    "    # TODO: Implement Function\n",
    "    return x/np.max(x)\n",
    "\n",
    "\n",
    "\"\"\"\n",
    "DON'T MODIFY ANYTHING IN THIS CELL THAT IS BELOW THIS LINE\n",
    "\"\"\"\n",
    "tests.test_normalize(normalize)"
   ]
  },
  {
   "cell_type": "markdown",
   "metadata": {},
   "source": [
    "### One-hot encode\n",
    "Just like the previous code cell, you'll be implementing a function for preprocessing.  This time, you'll implement the `one_hot_encode` function. The input, `x`, are a list of labels.  Implement the function to return the list of labels as One-Hot encoded Numpy array.  The possible values for labels are 0 to 9. The one-hot encoding function should return the same encoding for each value between each call to `one_hot_encode`.  Make sure to save the map of encodings outside the function.\n",
    "\n",
    "Hint: Don't reinvent the wheel."
   ]
  },
  {
   "cell_type": "code",
   "execution_count": 6,
   "metadata": {
    "collapsed": false
   },
   "outputs": [
    {
     "name": "stdout",
     "output_type": "stream",
     "text": [
      "Tests Passed\n"
     ]
    }
   ],
   "source": [
    "def one_hot_encode(x):\n",
    "    \"\"\"\n",
    "    One hot encode a list of sample labels. Return a one-hot encoded vector for each label.\n",
    "    : x: List of sample Labels\n",
    "    : return: Numpy array of one-hot encoded labels\n",
    "    \"\"\"\n",
    "    # TODO: Implement Function\n",
    "    oneHotEncode=np.zeros((len(x),10))\n",
    "    for i,j in enumerate(x):\n",
    "        oneHotEncode[i,j]=1\n",
    "    return oneHotEncode\n",
    "\n",
    "\n",
    "\"\"\"\n",
    "DON'T MODIFY ANYTHING IN THIS CELL THAT IS BELOW THIS LINE\n",
    "\"\"\"\n",
    "tests.test_one_hot_encode(one_hot_encode)"
   ]
  },
  {
   "cell_type": "markdown",
   "metadata": {},
   "source": [
    "### Randomize Data\n",
    "As you saw from exploring the data above, the order of the samples are randomized.  It doesn't hurt to randomize it again, but you don't need to for this dataset."
   ]
  },
  {
   "cell_type": "markdown",
   "metadata": {},
   "source": [
    "## Preprocess all the data and save it\n",
    "Running the code cell below will preprocess all the CIFAR-10 data and save it to file. The code below also uses 10% of the training data for validation."
   ]
  },
  {
   "cell_type": "code",
   "execution_count": 7,
   "metadata": {
    "collapsed": true
   },
   "outputs": [],
   "source": [
    "\"\"\"\n",
    "DON'T MODIFY ANYTHING IN THIS CELL\n",
    "\"\"\"\n",
    "# Preprocess Training, Validation, and Testing Data\n",
    "helper.preprocess_and_save_data(cifar10_dataset_folder_path, normalize, one_hot_encode)"
   ]
  },
  {
   "cell_type": "markdown",
   "metadata": {},
   "source": [
    "# Check Point\n",
    "This is your first checkpoint.  If you ever decide to come back to this notebook or have to restart the notebook, you can start from here.  The preprocessed data has been saved to disk."
   ]
  },
  {
   "cell_type": "code",
   "execution_count": 8,
   "metadata": {
    "collapsed": true
   },
   "outputs": [],
   "source": [
    "\"\"\"\n",
    "DON'T MODIFY ANYTHING IN THIS CELL\n",
    "\"\"\"\n",
    "import pickle\n",
    "import problem_unittests as tests\n",
    "import helper\n",
    "\n",
    "# Load the Preprocessed Validation data\n",
    "valid_features, valid_labels = pickle.load(open('preprocess_validation.p', mode='rb'))"
   ]
  },
  {
   "cell_type": "markdown",
   "metadata": {},
   "source": [
    "## Build the network\n",
    "For the neural network, you'll build each layer into a function.  Most of the code you've seen has been outside of functions. To test your code more thoroughly, we require that you put each layer in a function.  This allows us to give you better feedback and test for simple mistakes using our unittests before you submit your project.\n",
    "\n",
    ">**Note:** If you're finding it hard to dedicate enough time for this course each week, we've provided a small shortcut to this part of the project. In the next couple of problems, you'll have the option to use classes from the [TensorFlow Layers](https://www.tensorflow.org/api_docs/python/tf/layers) or [TensorFlow Layers (contrib)](https://www.tensorflow.org/api_guides/python/contrib.layers) packages to build each layer, except the layers you build in the \"Convolutional and Max Pooling Layer\" section.  TF Layers is similar to Keras's and TFLearn's abstraction to layers, so it's easy to pickup.\n",
    "\n",
    ">However, if you would like to get the most out of this course, try to solve all the problems _without_ using anything from the TF Layers packages. You **can** still use classes from other packages that happen to have the same name as ones you find in TF Layers! For example, instead of using the TF Layers version of the `conv2d` class, [tf.layers.conv2d](https://www.tensorflow.org/api_docs/python/tf/layers/conv2d), you would want to use the TF Neural Network version of `conv2d`, [tf.nn.conv2d](https://www.tensorflow.org/api_docs/python/tf/nn/conv2d). \n",
    "\n",
    "Let's begin!\n",
    "\n",
    "### Input\n",
    "The neural network needs to read the image data, one-hot encoded labels, and dropout keep probability. Implement the following functions\n",
    "* Implement `neural_net_image_input`\n",
    " * Return a [TF Placeholder](https://www.tensorflow.org/api_docs/python/tf/placeholder)\n",
    " * Set the shape using `image_shape` with batch size set to `None`.\n",
    " * Name the TensorFlow placeholder \"x\" using the TensorFlow `name` parameter in the [TF Placeholder](https://www.tensorflow.org/api_docs/python/tf/placeholder).\n",
    "* Implement `neural_net_label_input`\n",
    " * Return a [TF Placeholder](https://www.tensorflow.org/api_docs/python/tf/placeholder)\n",
    " * Set the shape using `n_classes` with batch size set to `None`.\n",
    " * Name the TensorFlow placeholder \"y\" using the TensorFlow `name` parameter in the [TF Placeholder](https://www.tensorflow.org/api_docs/python/tf/placeholder).\n",
    "* Implement `neural_net_keep_prob_input`\n",
    " * Return a [TF Placeholder](https://www.tensorflow.org/api_docs/python/tf/placeholder) for dropout keep probability.\n",
    " * Name the TensorFlow placeholder \"keep_prob\" using the TensorFlow `name` parameter in the [TF Placeholder](https://www.tensorflow.org/api_docs/python/tf/placeholder).\n",
    "\n",
    "These names will be used at the end of the project to load your saved model.\n",
    "\n",
    "Note: `None` for shapes in TensorFlow allow for a dynamic size."
   ]
  },
  {
   "cell_type": "code",
   "execution_count": 11,
   "metadata": {
    "collapsed": false
   },
   "outputs": [
    {
     "name": "stdout",
     "output_type": "stream",
     "text": [
      "Image Input Tests Passed.\n",
      "Label Input Tests Passed.\n",
      "Keep Prob Tests Passed.\n"
     ]
    }
   ],
   "source": [
    "import tensorflow as tf\n",
    "\n",
    "def neural_net_image_input(image_shape):\n",
    "    \"\"\"\n",
    "    Return a Tensor for a batch of image input\n",
    "    : image_shape: Shape of the images\n",
    "    : return: Tensor for image input.\n",
    "    \"\"\"\n",
    "    # TODO: Implement Function\n",
    "    return tf.placeholder(tf.float32, shape=[None, image_shape[0], image_shape[1], image_shape[2]], name='x')\n",
    "\n",
    "\n",
    "def neural_net_label_input(n_classes):\n",
    "    \"\"\"\n",
    "    Return a Tensor for a batch of label input\n",
    "    : n_classes: Number of classes\n",
    "    : return: Tensor for label input.\n",
    "    \"\"\"\n",
    "    # TODO: Implement Function\n",
    "    return tf.placeholder(tf.float32, shape=[None, n_classes], name='y')\n",
    "\n",
    "\n",
    "def neural_net_keep_prob_input():\n",
    "    \"\"\"\n",
    "    Return a Tensor for keep probability\n",
    "    : return: Tensor for keep probability.\n",
    "    \"\"\"\n",
    "    # TODO: Implement Function\n",
    "    return tf.placeholder(tf.float32, name='keep_prob')\n",
    "\n",
    "\n",
    "\"\"\"\n",
    "DON'T MODIFY ANYTHING IN THIS CELL THAT IS BELOW THIS LINE\n",
    "\"\"\"\n",
    "tf.reset_default_graph()\n",
    "tests.test_nn_image_inputs(neural_net_image_input)\n",
    "tests.test_nn_label_inputs(neural_net_label_input)\n",
    "tests.test_nn_keep_prob_inputs(neural_net_keep_prob_input)"
   ]
  },
  {
   "cell_type": "markdown",
   "metadata": {},
   "source": [
    "### Convolution and Max Pooling Layer\n",
    "Convolution layers have a lot of success with images. For this code cell, you should implement the function `conv2d_maxpool` to apply convolution then max pooling:\n",
    "* Create the weight and bias using `conv_ksize`, `conv_num_outputs` and the shape of `x_tensor`.\n",
    "* Apply a convolution to `x_tensor` using weight and `conv_strides`.\n",
    " * We recommend you use same padding, but you're welcome to use any padding.\n",
    "* Add bias\n",
    "* Add a nonlinear activation to the convolution.\n",
    "* Apply Max Pooling using `pool_ksize` and `pool_strides`.\n",
    " * We recommend you use same padding, but you're welcome to use any padding.\n",
    "\n",
    "**Note:** You **can't** use [TensorFlow Layers](https://www.tensorflow.org/api_docs/python/tf/layers) or [TensorFlow Layers (contrib)](https://www.tensorflow.org/api_guides/python/contrib.layers) for **this** layer, but you can still use TensorFlow's [Neural Network](https://www.tensorflow.org/api_docs/python/tf/nn) package. You may still use the shortcut option for all the **other** layers."
   ]
  },
  {
   "cell_type": "code",
   "execution_count": 13,
   "metadata": {
    "collapsed": false
   },
   "outputs": [
    {
     "name": "stdout",
     "output_type": "stream",
     "text": [
      "Tests Passed\n"
     ]
    }
   ],
   "source": [
    "def conv2d_maxpool(x_tensor, conv_num_outputs, conv_ksize, conv_strides, pool_ksize, pool_strides):\n",
    "    \"\"\"\n",
    "    Apply convolution then max pooling to x_tensor\n",
    "    :param x_tensor: TensorFlow Tensor\n",
    "    :param conv_num_outputs: Number of outputs for the convolutional layer\n",
    "    :param conv_ksize: kernal size 2-D Tuple for the convolutional layer\n",
    "    :param conv_strides: Stride 2-D Tuple for convolution\n",
    "    :param pool_ksize: kernal size 2-D Tuple for pool\n",
    "    :param pool_strides: Stride 2-D Tuple for pool\n",
    "    : return: A tensor that represents convolution and max pooling of x_tensor\n",
    "    \"\"\"\n",
    "    # TODO: Implement Function\n",
    "    count_input_channels = x_tensor.shape.as_list()[3]\n",
    "    count_filters = conv_num_outputs\n",
    "    shape = [conv_ksize[0], conv_ksize[1], count_input_channels, count_filters]\n",
    "    weight = tf.Variable(tf.truncated_normal(shape, mean=0, stddev=0.08))\n",
    "    bias = tf.Variable(tf.constant(0.05, shape=[count_filters]))\n",
    "    conv = tf.nn.conv2d(x_tensor, weight, strides=[1,conv_strides[0], conv_strides[1],1], padding='SAME')\n",
    "    conv = tf.nn.bias_add(conv, bias)\n",
    "    conv = tf.nn.relu(conv)\n",
    "    return tf.nn.max_pool(conv, ksize=[1,pool_ksize[0],pool_ksize[1],1], \n",
    "                  strides=[1,pool_strides[0], pool_strides[1], 1],\n",
    "                  padding='SAME')\n",
    " \n",
    "\n",
    "\n",
    "\"\"\"\n",
    "DON'T MODIFY ANYTHING IN THIS CELL THAT IS BELOW THIS LINE\n",
    "\"\"\"\n",
    "tests.test_con_pool(conv2d_maxpool)"
   ]
  },
  {
   "cell_type": "markdown",
   "metadata": {},
   "source": [
    "### Flatten Layer\n",
    "Implement the `flatten` function to change the dimension of `x_tensor` from a 4-D tensor to a 2-D tensor.  The output should be the shape (*Batch Size*, *Flattened Image Size*). Shortcut option: you can use classes from the [TensorFlow Layers](https://www.tensorflow.org/api_docs/python/tf/layers) or [TensorFlow Layers (contrib)](https://www.tensorflow.org/api_guides/python/contrib.layers) packages for this layer. For more of a challenge, only use other TensorFlow packages."
   ]
  },
  {
   "cell_type": "code",
   "execution_count": 14,
   "metadata": {
    "collapsed": false
   },
   "outputs": [
    {
     "name": "stdout",
     "output_type": "stream",
     "text": [
      "Tests Passed\n"
     ]
    }
   ],
   "source": [
    "def flatten(x_tensor):\n",
    "    \"\"\"\n",
    "    Flatten x_tensor to (Batch Size, Flattened Image Size)\n",
    "    : x_tensor: A tensor of size (Batch Size, ...), where ... are the image dimensions.\n",
    "    : return: A tensor of size (Batch Size, Flattened Image Size).\n",
    "    \"\"\"\n",
    "    # TODO: Implement Function\n",
    "    x_shape = x_tensor.get_shape()\n",
    "    num_features = x_shape[1:4].num_elements()\n",
    "    layer_flat = tf.reshape(x_tensor, [-1, num_features])\n",
    "    return layer_flat\n",
    "\n",
    "\n",
    "\"\"\"\n",
    "DON'T MODIFY ANYTHING IN THIS CELL THAT IS BELOW THIS LINE\n",
    "\"\"\"\n",
    "tests.test_flatten(flatten)"
   ]
  },
  {
   "cell_type": "markdown",
   "metadata": {},
   "source": [
    "### Fully-Connected Layer\n",
    "Implement the `fully_conn` function to apply a fully connected layer to `x_tensor` with the shape (*Batch Size*, *num_outputs*). Shortcut option: you can use classes from the [TensorFlow Layers](https://www.tensorflow.org/api_docs/python/tf/layers) or [TensorFlow Layers (contrib)](https://www.tensorflow.org/api_guides/python/contrib.layers) packages for this layer. For more of a challenge, only use other TensorFlow packages."
   ]
  },
  {
   "cell_type": "code",
   "execution_count": 15,
   "metadata": {
    "collapsed": false
   },
   "outputs": [
    {
     "name": "stdout",
     "output_type": "stream",
     "text": [
      "Tests Passed\n"
     ]
    }
   ],
   "source": [
    "def fully_conn(x_tensor, num_outputs):\n",
    "    \"\"\"\n",
    "    Apply a fully connected layer to x_tensor using weight and bias\n",
    "    : x_tensor: A 2-D tensor where the first dimension is batch size.\n",
    "    : num_outputs: The number of output that the new tensor should be.\n",
    "    : return: A 2-D tensor where the second dimension is num_outputs.\n",
    "    \"\"\"\n",
    "    # TODO: Implement Function\n",
    "    weights = tf.Variable(tf.truncated_normal([x_tensor.get_shape().as_list()[1], num_outputs], mean=0.0, stddev=0.08))\n",
    "    bias = tf.Variable(tf.constant(0.05, shape=[num_outputs]))\n",
    "    tf.Variable(tf.zeros(num_outputs))\n",
    "    fullyconnected = tf.matmul(x_tensor, weights) + bias\n",
    "    return tf.nn.relu(fullyconnected)\n",
    "\n",
    "\n",
    "\"\"\"\n",
    "DON'T MODIFY ANYTHING IN THIS CELL THAT IS BELOW THIS LINE\n",
    "\"\"\"\n",
    "tests.test_fully_conn(fully_conn)"
   ]
  },
  {
   "cell_type": "markdown",
   "metadata": {},
   "source": [
    "### Output Layer\n",
    "Implement the `output` function to apply a fully connected layer to `x_tensor` with the shape (*Batch Size*, *num_outputs*). Shortcut option: you can use classes from the [TensorFlow Layers](https://www.tensorflow.org/api_docs/python/tf/layers) or [TensorFlow Layers (contrib)](https://www.tensorflow.org/api_guides/python/contrib.layers) packages for this layer. For more of a challenge, only use other TensorFlow packages.\n",
    "\n",
    "**Note:** Activation, softmax, or cross entropy should **not** be applied to this."
   ]
  },
  {
   "cell_type": "code",
   "execution_count": 17,
   "metadata": {
    "collapsed": false
   },
   "outputs": [
    {
     "name": "stdout",
     "output_type": "stream",
     "text": [
      "Tests Passed\n"
     ]
    }
   ],
   "source": [
    "def output(x_tensor, num_outputs):\n",
    "    \"\"\"\n",
    "    Apply a output layer to x_tensor using weight and bias\n",
    "    : x_tensor: A 2-D tensor where the first dimension is batch size.\n",
    "    : num_outputs: The number of output that the new tensor should be.\n",
    "    : return: A 2-D tensor where the second dimension is num_outputs.\n",
    "    \"\"\"\n",
    "    # TODO: Implement Function\n",
    "    weights = tf.Variable(tf.truncated_normal([x_tensor.get_shape().as_list()[1], num_outputs],mean=0.0,stddev=0.5))\n",
    "    bias = tf.Variable(tf.constant(0.05, shape=[num_outputs]))\n",
    "    output = tf.add(tf.matmul(x_tensor, weights),bias)\n",
    "    return output\n",
    "\n",
    "\n",
    "\"\"\"\n",
    "DON'T MODIFY ANYTHING IN THIS CELL THAT IS BELOW THIS LINE\n",
    "\"\"\"\n",
    "tests.test_output(output)"
   ]
  },
  {
   "cell_type": "markdown",
   "metadata": {},
   "source": [
    "### Create Convolutional Model\n",
    "Implement the function `conv_net` to create a convolutional neural network model. The function takes in a batch of images, `x`, and outputs logits.  Use the layers you created above to create this model:\n",
    "\n",
    "* Apply 1, 2, or 3 Convolution and Max Pool layers\n",
    "* Apply a Flatten Layer\n",
    "* Apply 1, 2, or 3 Fully Connected Layers\n",
    "* Apply an Output Layer\n",
    "* Return the output\n",
    "* Apply [TensorFlow's Dropout](https://www.tensorflow.org/api_docs/python/tf/nn/dropout) to one or more layers in the model using `keep_prob`. "
   ]
  },
  {
   "cell_type": "code",
   "execution_count": 34,
   "metadata": {
    "collapsed": false
   },
   "outputs": [
    {
     "name": "stdout",
     "output_type": "stream",
     "text": [
      "Neural Network Built!\n"
     ]
    }
   ],
   "source": [
    "def conv_net(x, keep_prob):\n",
    "    \"\"\"\n",
    "    Create a convolutional neural network model\n",
    "    : x: Placeholder tensor that holds image data.\n",
    "    : keep_prob: Placeholder tensor that hold dropout keep probability.\n",
    "    : return: Tensor that represents logits\n",
    "    \"\"\"\n",
    "    # TODO: Apply 1, 2, or 3 Convolution and Max Pool layers\n",
    "    #    Play around with different number of outputs, kernel size and stride\n",
    "    # Function Definition from Above:\n",
    "    #    conv2d_maxpool(x_tensor, conv_num_outputs, conv_ksize, conv_strides, pool_ksize, pool_strides)\n",
    "    conv1 = conv2d_maxpool(x, 128, [4,4], [2,2], [3,3], [2,2])\n",
    "    conv1 = tf.nn.dropout(conv1, keep_prob)\n",
    "    conv2 = conv2d_maxpool(conv1, 256, [3,3], [1,1], [1,1], [2,2])\n",
    "    conv2 = tf.nn.dropout(conv2, keep_prob)\n",
    "    conv3 = conv2d_maxpool(conv2, 128, [4,4], [2,2], [3,3], [2,2])\n",
    "    \n",
    "    # TODO: Apply a Flatten Layer\n",
    "    # Function Definition from Above:\n",
    "    #   flatten(x_tensor)\n",
    "    fl1=flatten(conv3)\n",
    "\n",
    "    # TODO: Apply 1, 2, or 3 Fully Connected Layers\n",
    "    #    Play around with different number of outputs\n",
    "    # Function Definition from Above:\n",
    "    #   fully_conn(x_tensor, num_outputs)\n",
    "    fc1 = fully_conn(fl1,400)\n",
    "    fc1 = tf.nn.dropout(fc1, keep_prob)\n",
    "    fc2 = fully_conn(fc1,100)\n",
    "    \n",
    "    # TODO: Apply an Output Layer\n",
    "    #    Set this to the number of classes\n",
    "    # Function Definition from Above:\n",
    "    #   output(x_tensor, num_outputs)\n",
    "    out = output(fc2,10)\n",
    "    \n",
    "    # TODO: return output\n",
    "    return out\n",
    "\n",
    "\n",
    "\"\"\"\n",
    "DON'T MODIFY ANYTHING IN THIS CELL THAT IS BELOW THIS LINE\n",
    "\"\"\"\n",
    "\n",
    "##############################\n",
    "## Build the Neural Network ##\n",
    "##############################\n",
    "\n",
    "# Remove previous weights, bias, inputs, etc..\n",
    "tf.reset_default_graph()\n",
    "\n",
    "# Inputs\n",
    "x = neural_net_image_input((32, 32, 3))\n",
    "y = neural_net_label_input(10)\n",
    "keep_prob = neural_net_keep_prob_input()\n",
    "\n",
    "# Model\n",
    "logits = conv_net(x, keep_prob)\n",
    "\n",
    "# Name logits Tensor, so that is can be loaded from disk after training\n",
    "logits = tf.identity(logits, name='logits')\n",
    "\n",
    "# Loss and Optimizer\n",
    "cost = tf.reduce_mean(tf.nn.softmax_cross_entropy_with_logits(logits=logits, labels=y))\n",
    "optimizer = tf.train.AdamOptimizer().minimize(cost)\n",
    "\n",
    "# Accuracy\n",
    "correct_pred = tf.equal(tf.argmax(logits, 1), tf.argmax(y, 1))\n",
    "accuracy = tf.reduce_mean(tf.cast(correct_pred, tf.float32), name='accuracy')\n",
    "\n",
    "tests.test_conv_net(conv_net)"
   ]
  },
  {
   "cell_type": "markdown",
   "metadata": {},
   "source": [
    "## Train the Neural Network\n",
    "### Single Optimization\n",
    "Implement the function `train_neural_network` to do a single optimization.  The optimization should use `optimizer` to optimize in `session` with a `feed_dict` of the following:\n",
    "* `x` for image input\n",
    "* `y` for labels\n",
    "* `keep_prob` for keep probability for dropout\n",
    "\n",
    "This function will be called for each batch, so `tf.global_variables_initializer()` has already been called.\n",
    "\n",
    "Note: Nothing needs to be returned. This function is only optimizing the neural network."
   ]
  },
  {
   "cell_type": "code",
   "execution_count": 35,
   "metadata": {
    "collapsed": false
   },
   "outputs": [
    {
     "name": "stdout",
     "output_type": "stream",
     "text": [
      "Tests Passed\n"
     ]
    }
   ],
   "source": [
    "def train_neural_network(session, optimizer, keep_probability, feature_batch, label_batch):\n",
    "    \"\"\"\n",
    "    Optimize the session on a batch of images and labels\n",
    "    : session: Current TensorFlow session\n",
    "    : optimizer: TensorFlow optimizer function\n",
    "    : keep_probability: keep probability\n",
    "    : feature_batch: Batch of Numpy image data\n",
    "    : label_batch: Batch of Numpy label data\n",
    "    \"\"\"\n",
    "    # TODO: Implement Function\n",
    "    session.run(optimizer, feed_dict={\n",
    "        x: feature_batch,\n",
    "        y : label_batch,\n",
    "        keep_prob : keep_probability\n",
    "    })\n",
    "\n",
    "\n",
    "\"\"\"\n",
    "DON'T MODIFY ANYTHING IN THIS CELL THAT IS BELOW THIS LINE\n",
    "\"\"\"\n",
    "tests.test_train_nn(train_neural_network)"
   ]
  },
  {
   "cell_type": "markdown",
   "metadata": {},
   "source": [
    "### Show Stats\n",
    "Implement the function `print_stats` to print loss and validation accuracy.  Use the global variables `valid_features` and `valid_labels` to calculate validation accuracy.  Use a keep probability of `1.0` to calculate the loss and validation accuracy."
   ]
  },
  {
   "cell_type": "code",
   "execution_count": 36,
   "metadata": {
    "collapsed": true
   },
   "outputs": [],
   "source": [
    "def print_stats(session, feature_batch, label_batch, cost, accuracy):\n",
    "    \"\"\"\n",
    "    Print information about loss and validation accuracy\n",
    "    : session: Current TensorFlow session\n",
    "    : feature_batch: Batch of Numpy image data\n",
    "    : label_batch: Batch of Numpy label data\n",
    "    : cost: TensorFlow cost function\n",
    "    : accuracy: TensorFlow accuracy function\n",
    "    \"\"\"\n",
    "    # TODO: Implement Function\n",
    "    loss = session.run(cost, feed_dict={\n",
    "        x : feature_batch,\n",
    "        y : label_batch,\n",
    "        keep_prob: 1.0\n",
    "    })\n",
    "    validation_accuracy = sess.run(accuracy, feed_dict={\n",
    "        x: valid_features,\n",
    "        y: valid_labels,\n",
    "        keep_prob: 1.0\n",
    "    })\n",
    "    print('Loss:%f Accuracy: %.6f}'%(loss,validation_accuracy))"
   ]
  },
  {
   "cell_type": "markdown",
   "metadata": {},
   "source": [
    "### Hyperparameters\n",
    "Tune the following parameters:\n",
    "* Set `epochs` to the number of iterations until the network stops learning or start overfitting\n",
    "* Set `batch_size` to the highest number that your machine has memory for.  Most people set them to common sizes of memory:\n",
    " * 64\n",
    " * 128\n",
    " * 256\n",
    " * ...\n",
    "* Set `keep_probability` to the probability of keeping a node using dropout"
   ]
  },
  {
   "cell_type": "code",
   "execution_count": 37,
   "metadata": {
    "collapsed": true
   },
   "outputs": [],
   "source": [
    "# TODO: Tune Parameters\n",
    "epochs = 50\n",
    "batch_size = 256\n",
    "keep_probability = 0.5"
   ]
  },
  {
   "cell_type": "markdown",
   "metadata": {},
   "source": [
    "### Train on a Single CIFAR-10 Batch\n",
    "Instead of training the neural network on all the CIFAR-10 batches of data, let's use a single batch. This should save time while you iterate on the model to get a better accuracy.  Once the final validation accuracy is 50% or greater, run the model on all the data in the next section."
   ]
  },
  {
   "cell_type": "code",
   "execution_count": 38,
   "metadata": {
    "collapsed": false
   },
   "outputs": [
    {
     "name": "stdout",
     "output_type": "stream",
     "text": [
      "Checking the Training on a Single Batch...\n",
      "Epoch  1, CIFAR-10 Batch 1:  Loss:2.290746 Accuracy: 0.112600}\n",
      "Epoch  2, CIFAR-10 Batch 1:  Loss:2.294513 Accuracy: 0.152000}\n",
      "Epoch  3, CIFAR-10 Batch 1:  Loss:2.223653 Accuracy: 0.188000}\n",
      "Epoch  4, CIFAR-10 Batch 1:  Loss:2.203941 Accuracy: 0.202600}\n",
      "Epoch  5, CIFAR-10 Batch 1:  Loss:1.996294 Accuracy: 0.254400}\n",
      "Epoch  6, CIFAR-10 Batch 1:  Loss:1.921378 Accuracy: 0.298200}\n",
      "Epoch  7, CIFAR-10 Batch 1:  Loss:1.848477 Accuracy: 0.326000}\n",
      "Epoch  8, CIFAR-10 Batch 1:  Loss:1.817995 Accuracy: 0.352400}\n",
      "Epoch  9, CIFAR-10 Batch 1:  Loss:1.678816 Accuracy: 0.388000}\n",
      "Epoch 10, CIFAR-10 Batch 1:  Loss:1.619358 Accuracy: 0.408200}\n",
      "Epoch 11, CIFAR-10 Batch 1:  Loss:1.520644 Accuracy: 0.422200}\n",
      "Epoch 12, CIFAR-10 Batch 1:  Loss:1.484403 Accuracy: 0.431600}\n",
      "Epoch 13, CIFAR-10 Batch 1:  Loss:1.439240 Accuracy: 0.444800}\n",
      "Epoch 14, CIFAR-10 Batch 1:  Loss:1.368602 Accuracy: 0.461200}\n",
      "Epoch 15, CIFAR-10 Batch 1:  Loss:1.313080 Accuracy: 0.458400}\n",
      "Epoch 16, CIFAR-10 Batch 1:  Loss:1.252451 Accuracy: 0.470200}\n",
      "Epoch 17, CIFAR-10 Batch 1:  Loss:1.214625 Accuracy: 0.477000}\n",
      "Epoch 18, CIFAR-10 Batch 1:  Loss:1.190898 Accuracy: 0.484400}\n",
      "Epoch 19, CIFAR-10 Batch 1:  Loss:1.144224 Accuracy: 0.494200}\n",
      "Epoch 20, CIFAR-10 Batch 1:  Loss:1.086197 Accuracy: 0.492400}\n",
      "Epoch 21, CIFAR-10 Batch 1:  Loss:1.038460 Accuracy: 0.500800}\n",
      "Epoch 22, CIFAR-10 Batch 1:  Loss:0.952509 Accuracy: 0.506800}\n",
      "Epoch 23, CIFAR-10 Batch 1:  Loss:0.910230 Accuracy: 0.520800}\n",
      "Epoch 24, CIFAR-10 Batch 1:  Loss:0.870079 Accuracy: 0.519200}\n",
      "Epoch 25, CIFAR-10 Batch 1:  Loss:0.861105 Accuracy: 0.530600}\n",
      "Epoch 26, CIFAR-10 Batch 1:  Loss:0.781535 Accuracy: 0.530200}\n",
      "Epoch 27, CIFAR-10 Batch 1:  Loss:0.772778 Accuracy: 0.536000}\n",
      "Epoch 28, CIFAR-10 Batch 1:  Loss:0.727577 Accuracy: 0.543400}\n",
      "Epoch 29, CIFAR-10 Batch 1:  Loss:0.724265 Accuracy: 0.543400}\n",
      "Epoch 30, CIFAR-10 Batch 1:  Loss:0.705232 Accuracy: 0.542000}\n",
      "Epoch 31, CIFAR-10 Batch 1:  Loss:0.632563 Accuracy: 0.553200}\n",
      "Epoch 32, CIFAR-10 Batch 1:  Loss:0.649355 Accuracy: 0.541200}\n",
      "Epoch 33, CIFAR-10 Batch 1:  Loss:0.569154 Accuracy: 0.563600}\n",
      "Epoch 34, CIFAR-10 Batch 1:  Loss:0.610497 Accuracy: 0.547200}\n",
      "Epoch 35, CIFAR-10 Batch 1:  Loss:0.585709 Accuracy: 0.551600}\n",
      "Epoch 36, CIFAR-10 Batch 1:  Loss:0.527558 Accuracy: 0.573200}\n",
      "Epoch 37, CIFAR-10 Batch 1:  Loss:0.503419 Accuracy: 0.563000}\n",
      "Epoch 38, CIFAR-10 Batch 1:  Loss:0.487328 Accuracy: 0.559000}\n",
      "Epoch 39, CIFAR-10 Batch 1:  Loss:0.476567 Accuracy: 0.554800}\n",
      "Epoch 40, CIFAR-10 Batch 1:  Loss:0.437725 Accuracy: 0.577600}\n",
      "Epoch 41, CIFAR-10 Batch 1:  Loss:0.426963 Accuracy: 0.583000}\n",
      "Epoch 42, CIFAR-10 Batch 1:  Loss:0.394641 Accuracy: 0.588800}\n",
      "Epoch 43, CIFAR-10 Batch 1:  Loss:0.356294 Accuracy: 0.574400}\n",
      "Epoch 44, CIFAR-10 Batch 1:  Loss:0.342193 Accuracy: 0.587200}\n",
      "Epoch 45, CIFAR-10 Batch 1:  Loss:0.341163 Accuracy: 0.591600}\n",
      "Epoch 46, CIFAR-10 Batch 1:  Loss:0.287959 Accuracy: 0.593200}\n",
      "Epoch 47, CIFAR-10 Batch 1:  Loss:0.273319 Accuracy: 0.593600}\n",
      "Epoch 48, CIFAR-10 Batch 1:  Loss:0.262578 Accuracy: 0.597800}\n",
      "Epoch 49, CIFAR-10 Batch 1:  Loss:0.242398 Accuracy: 0.596200}\n",
      "Epoch 50, CIFAR-10 Batch 1:  Loss:0.229461 Accuracy: 0.594200}\n"
     ]
    }
   ],
   "source": [
    "\"\"\"\n",
    "DON'T MODIFY ANYTHING IN THIS CELL\n",
    "\"\"\"\n",
    "print('Checking the Training on a Single Batch...')\n",
    "with tf.Session() as sess:\n",
    "    # Initializing the variables\n",
    "    sess.run(tf.global_variables_initializer())\n",
    "    \n",
    "    # Training cycle\n",
    "    for epoch in range(epochs):\n",
    "        batch_i = 1\n",
    "        for batch_features, batch_labels in helper.load_preprocess_training_batch(batch_i, batch_size):\n",
    "            train_neural_network(sess, optimizer, keep_probability, batch_features, batch_labels)\n",
    "        print('Epoch {:>2}, CIFAR-10 Batch {}:  '.format(epoch + 1, batch_i), end='')\n",
    "        print_stats(sess, batch_features, batch_labels, cost, accuracy)"
   ]
  },
  {
   "cell_type": "markdown",
   "metadata": {},
   "source": [
    "### Fully Train the Model\n",
    "Now that you got a good accuracy with a single CIFAR-10 batch, try it with all five batches."
   ]
  },
  {
   "cell_type": "code",
   "execution_count": 39,
   "metadata": {
    "collapsed": false
   },
   "outputs": [
    {
     "name": "stdout",
     "output_type": "stream",
     "text": [
      "Training...\n",
      "Epoch  1, CIFAR-10 Batch 1:  Loss:2.288994 Accuracy: 0.128800}\n",
      "Epoch  1, CIFAR-10 Batch 2:  Loss:2.288734 Accuracy: 0.165800}\n",
      "Epoch  1, CIFAR-10 Batch 3:  Loss:2.217807 Accuracy: 0.178000}\n",
      "Epoch  1, CIFAR-10 Batch 4:  Loss:2.136871 Accuracy: 0.171200}\n",
      "Epoch  1, CIFAR-10 Batch 5:  Loss:2.101896 Accuracy: 0.215800}\n",
      "Epoch  2, CIFAR-10 Batch 1:  Loss:2.161486 Accuracy: 0.250800}\n",
      "Epoch  2, CIFAR-10 Batch 2:  Loss:1.853843 Accuracy: 0.299000}\n",
      "Epoch  2, CIFAR-10 Batch 3:  Loss:1.631002 Accuracy: 0.329400}\n",
      "Epoch  2, CIFAR-10 Batch 4:  Loss:1.714920 Accuracy: 0.364600}\n",
      "Epoch  2, CIFAR-10 Batch 5:  Loss:1.703428 Accuracy: 0.359800}\n",
      "Epoch  3, CIFAR-10 Batch 1:  Loss:1.874701 Accuracy: 0.390000}\n",
      "Epoch  3, CIFAR-10 Batch 2:  Loss:1.594191 Accuracy: 0.415600}\n",
      "Epoch  3, CIFAR-10 Batch 3:  Loss:1.446734 Accuracy: 0.408600}\n",
      "Epoch  3, CIFAR-10 Batch 4:  Loss:1.614340 Accuracy: 0.438600}\n",
      "Epoch  3, CIFAR-10 Batch 5:  Loss:1.508499 Accuracy: 0.434600}\n",
      "Epoch  4, CIFAR-10 Batch 1:  Loss:1.640513 Accuracy: 0.452800}\n",
      "Epoch  4, CIFAR-10 Batch 2:  Loss:1.424672 Accuracy: 0.468600}\n",
      "Epoch  4, CIFAR-10 Batch 3:  Loss:1.308324 Accuracy: 0.470800}\n",
      "Epoch  4, CIFAR-10 Batch 4:  Loss:1.504385 Accuracy: 0.475400}\n",
      "Epoch  4, CIFAR-10 Batch 5:  Loss:1.362836 Accuracy: 0.470800}\n",
      "Epoch  5, CIFAR-10 Batch 1:  Loss:1.433796 Accuracy: 0.499200}\n",
      "Epoch  5, CIFAR-10 Batch 2:  Loss:1.336577 Accuracy: 0.497800}\n",
      "Epoch  5, CIFAR-10 Batch 3:  Loss:1.171377 Accuracy: 0.507200}\n",
      "Epoch  5, CIFAR-10 Batch 4:  Loss:1.330126 Accuracy: 0.514400}\n",
      "Epoch  5, CIFAR-10 Batch 5:  Loss:1.242506 Accuracy: 0.512400}\n",
      "Epoch  6, CIFAR-10 Batch 1:  Loss:1.278530 Accuracy: 0.531200}\n",
      "Epoch  6, CIFAR-10 Batch 2:  Loss:1.206156 Accuracy: 0.518600}\n",
      "Epoch  6, CIFAR-10 Batch 3:  Loss:1.074242 Accuracy: 0.527600}\n",
      "Epoch  6, CIFAR-10 Batch 4:  Loss:1.260639 Accuracy: 0.537800}\n",
      "Epoch  6, CIFAR-10 Batch 5:  Loss:1.183639 Accuracy: 0.528400}\n",
      "Epoch  7, CIFAR-10 Batch 1:  Loss:1.151554 Accuracy: 0.540400}\n",
      "Epoch  7, CIFAR-10 Batch 2:  Loss:1.177736 Accuracy: 0.547200}\n",
      "Epoch  7, CIFAR-10 Batch 3:  Loss:1.023273 Accuracy: 0.555200}\n",
      "Epoch  7, CIFAR-10 Batch 4:  Loss:1.070450 Accuracy: 0.562200}\n",
      "Epoch  7, CIFAR-10 Batch 5:  Loss:1.079595 Accuracy: 0.555800}\n",
      "Epoch  8, CIFAR-10 Batch 1:  Loss:1.073396 Accuracy: 0.562800}\n",
      "Epoch  8, CIFAR-10 Batch 2:  Loss:1.069255 Accuracy: 0.565800}\n",
      "Epoch  8, CIFAR-10 Batch 3:  Loss:1.019246 Accuracy: 0.563600}\n",
      "Epoch  8, CIFAR-10 Batch 4:  Loss:1.009023 Accuracy: 0.580200}\n",
      "Epoch  8, CIFAR-10 Batch 5:  Loss:0.982259 Accuracy: 0.568800}\n",
      "Epoch  9, CIFAR-10 Batch 1:  Loss:0.927893 Accuracy: 0.562600}\n",
      "Epoch  9, CIFAR-10 Batch 2:  Loss:0.961070 Accuracy: 0.578800}\n",
      "Epoch  9, CIFAR-10 Batch 3:  Loss:0.942720 Accuracy: 0.578800}\n",
      "Epoch  9, CIFAR-10 Batch 4:  Loss:0.976527 Accuracy: 0.573400}\n",
      "Epoch  9, CIFAR-10 Batch 5:  Loss:0.957591 Accuracy: 0.567200}\n",
      "Epoch 10, CIFAR-10 Batch 1:  Loss:0.939895 Accuracy: 0.591800}\n",
      "Epoch 10, CIFAR-10 Batch 2:  Loss:0.918911 Accuracy: 0.587400}\n",
      "Epoch 10, CIFAR-10 Batch 3:  Loss:0.803699 Accuracy: 0.602400}\n",
      "Epoch 10, CIFAR-10 Batch 4:  Loss:0.887949 Accuracy: 0.603600}\n",
      "Epoch 10, CIFAR-10 Batch 5:  Loss:0.830876 Accuracy: 0.604600}\n",
      "Epoch 11, CIFAR-10 Batch 1:  Loss:0.824825 Accuracy: 0.588800}\n",
      "Epoch 11, CIFAR-10 Batch 2:  Loss:0.850281 Accuracy: 0.603000}\n",
      "Epoch 11, CIFAR-10 Batch 3:  Loss:0.823162 Accuracy: 0.613200}\n",
      "Epoch 11, CIFAR-10 Batch 4:  Loss:0.754804 Accuracy: 0.621000}\n",
      "Epoch 11, CIFAR-10 Batch 5:  Loss:0.797964 Accuracy: 0.618800}\n",
      "Epoch 12, CIFAR-10 Batch 1:  Loss:0.808552 Accuracy: 0.625400}\n",
      "Epoch 12, CIFAR-10 Batch 2:  Loss:0.747316 Accuracy: 0.633000}\n",
      "Epoch 12, CIFAR-10 Batch 3:  Loss:0.762879 Accuracy: 0.624600}\n",
      "Epoch 12, CIFAR-10 Batch 4:  Loss:0.716607 Accuracy: 0.637400}\n",
      "Epoch 12, CIFAR-10 Batch 5:  Loss:0.739115 Accuracy: 0.614200}\n",
      "Epoch 13, CIFAR-10 Batch 1:  Loss:0.723204 Accuracy: 0.626000}\n",
      "Epoch 13, CIFAR-10 Batch 2:  Loss:0.624121 Accuracy: 0.639400}\n",
      "Epoch 13, CIFAR-10 Batch 3:  Loss:0.670701 Accuracy: 0.627400}\n",
      "Epoch 13, CIFAR-10 Batch 4:  Loss:0.624522 Accuracy: 0.644600}\n",
      "Epoch 13, CIFAR-10 Batch 5:  Loss:0.603283 Accuracy: 0.649800}\n",
      "Epoch 14, CIFAR-10 Batch 1:  Loss:0.679888 Accuracy: 0.631400}\n",
      "Epoch 14, CIFAR-10 Batch 2:  Loss:0.590713 Accuracy: 0.653200}\n",
      "Epoch 14, CIFAR-10 Batch 3:  Loss:0.691256 Accuracy: 0.637600}\n",
      "Epoch 14, CIFAR-10 Batch 4:  Loss:0.629602 Accuracy: 0.650800}\n",
      "Epoch 14, CIFAR-10 Batch 5:  Loss:0.609425 Accuracy: 0.652400}\n",
      "Epoch 15, CIFAR-10 Batch 1:  Loss:0.584087 Accuracy: 0.652400}\n",
      "Epoch 15, CIFAR-10 Batch 2:  Loss:0.528730 Accuracy: 0.645200}\n",
      "Epoch 15, CIFAR-10 Batch 3:  Loss:0.559634 Accuracy: 0.654800}\n",
      "Epoch 15, CIFAR-10 Batch 4:  Loss:0.598531 Accuracy: 0.661400}\n",
      "Epoch 15, CIFAR-10 Batch 5:  Loss:0.564152 Accuracy: 0.656000}\n",
      "Epoch 16, CIFAR-10 Batch 1:  Loss:0.581396 Accuracy: 0.660800}\n",
      "Epoch 16, CIFAR-10 Batch 2:  Loss:0.494109 Accuracy: 0.663200}\n",
      "Epoch 16, CIFAR-10 Batch 3:  Loss:0.562491 Accuracy: 0.662600}\n",
      "Epoch 16, CIFAR-10 Batch 4:  Loss:0.502105 Accuracy: 0.675400}\n",
      "Epoch 16, CIFAR-10 Batch 5:  Loss:0.511227 Accuracy: 0.657800}\n",
      "Epoch 17, CIFAR-10 Batch 1:  Loss:0.562478 Accuracy: 0.660400}\n",
      "Epoch 17, CIFAR-10 Batch 2:  Loss:0.462273 Accuracy: 0.675000}\n",
      "Epoch 17, CIFAR-10 Batch 3:  Loss:0.493758 Accuracy: 0.662800}\n",
      "Epoch 17, CIFAR-10 Batch 4:  Loss:0.512028 Accuracy: 0.672600}\n",
      "Epoch 17, CIFAR-10 Batch 5:  Loss:0.469048 Accuracy: 0.669600}\n",
      "Epoch 18, CIFAR-10 Batch 1:  Loss:0.536964 Accuracy: 0.674000}\n",
      "Epoch 18, CIFAR-10 Batch 2:  Loss:0.459008 Accuracy: 0.680000}\n",
      "Epoch 18, CIFAR-10 Batch 3:  Loss:0.380704 Accuracy: 0.680600}\n",
      "Epoch 18, CIFAR-10 Batch 4:  Loss:0.422310 Accuracy: 0.687400}\n",
      "Epoch 18, CIFAR-10 Batch 5:  Loss:0.444641 Accuracy: 0.664000}\n",
      "Epoch 19, CIFAR-10 Batch 1:  Loss:0.501446 Accuracy: 0.686800}\n",
      "Epoch 19, CIFAR-10 Batch 2:  Loss:0.402988 Accuracy: 0.680200}\n",
      "Epoch 19, CIFAR-10 Batch 3:  Loss:0.359145 Accuracy: 0.682600}\n",
      "Epoch 19, CIFAR-10 Batch 4:  Loss:0.372936 Accuracy: 0.692000}\n",
      "Epoch 19, CIFAR-10 Batch 5:  Loss:0.398495 Accuracy: 0.674200}\n",
      "Epoch 20, CIFAR-10 Batch 1:  Loss:0.463575 Accuracy: 0.688600}\n",
      "Epoch 20, CIFAR-10 Batch 2:  Loss:0.341043 Accuracy: 0.699200}\n",
      "Epoch 20, CIFAR-10 Batch 3:  Loss:0.346520 Accuracy: 0.687600}\n",
      "Epoch 20, CIFAR-10 Batch 4:  Loss:0.382449 Accuracy: 0.696000}\n",
      "Epoch 20, CIFAR-10 Batch 5:  Loss:0.336748 Accuracy: 0.682800}\n",
      "Epoch 21, CIFAR-10 Batch 1:  Loss:0.452885 Accuracy: 0.694600}\n",
      "Epoch 21, CIFAR-10 Batch 2:  Loss:0.328319 Accuracy: 0.695200}\n",
      "Epoch 21, CIFAR-10 Batch 3:  Loss:0.320076 Accuracy: 0.700400}\n",
      "Epoch 21, CIFAR-10 Batch 4:  Loss:0.349264 Accuracy: 0.701200}\n",
      "Epoch 21, CIFAR-10 Batch 5:  Loss:0.313898 Accuracy: 0.684400}\n",
      "Epoch 22, CIFAR-10 Batch 1:  Loss:0.414132 Accuracy: 0.701800}\n",
      "Epoch 22, CIFAR-10 Batch 2:  Loss:0.309053 Accuracy: 0.697800}\n",
      "Epoch 22, CIFAR-10 Batch 3:  Loss:0.289386 Accuracy: 0.701000}\n",
      "Epoch 22, CIFAR-10 Batch 4:  Loss:0.322541 Accuracy: 0.706000}\n",
      "Epoch 22, CIFAR-10 Batch 5:  Loss:0.315781 Accuracy: 0.690400}\n",
      "Epoch 23, CIFAR-10 Batch 1:  Loss:0.400324 Accuracy: 0.698400}\n",
      "Epoch 23, CIFAR-10 Batch 2:  Loss:0.270629 Accuracy: 0.706200}\n",
      "Epoch 23, CIFAR-10 Batch 3:  Loss:0.290747 Accuracy: 0.706000}\n",
      "Epoch 23, CIFAR-10 Batch 4:  Loss:0.276754 Accuracy: 0.704600}\n",
      "Epoch 23, CIFAR-10 Batch 5:  Loss:0.266640 Accuracy: 0.703200}\n",
      "Epoch 24, CIFAR-10 Batch 1:  Loss:0.383155 Accuracy: 0.709200}\n",
      "Epoch 24, CIFAR-10 Batch 2:  Loss:0.283704 Accuracy: 0.706800}\n",
      "Epoch 24, CIFAR-10 Batch 3:  Loss:0.263682 Accuracy: 0.687800}\n",
      "Epoch 24, CIFAR-10 Batch 4:  Loss:0.274372 Accuracy: 0.709800}\n",
      "Epoch 24, CIFAR-10 Batch 5:  Loss:0.328773 Accuracy: 0.695400}\n",
      "Epoch 25, CIFAR-10 Batch 1:  Loss:0.340882 Accuracy: 0.702200}\n",
      "Epoch 25, CIFAR-10 Batch 2:  Loss:0.248854 Accuracy: 0.696000}\n",
      "Epoch 25, CIFAR-10 Batch 3:  Loss:0.209401 Accuracy: 0.709200}\n",
      "Epoch 25, CIFAR-10 Batch 4:  Loss:0.278644 Accuracy: 0.709000}\n",
      "Epoch 25, CIFAR-10 Batch 5:  Loss:0.237019 Accuracy: 0.708600}\n",
      "Epoch 26, CIFAR-10 Batch 1:  Loss:0.293464 Accuracy: 0.713800}\n",
      "Epoch 26, CIFAR-10 Batch 2:  Loss:0.247773 Accuracy: 0.704400}\n",
      "Epoch 26, CIFAR-10 Batch 3:  Loss:0.205379 Accuracy: 0.704600}\n",
      "Epoch 26, CIFAR-10 Batch 4:  Loss:0.232760 Accuracy: 0.710000}\n",
      "Epoch 26, CIFAR-10 Batch 5:  Loss:0.213414 Accuracy: 0.706400}\n",
      "Epoch 27, CIFAR-10 Batch 1:  Loss:0.282373 Accuracy: 0.712800}\n",
      "Epoch 27, CIFAR-10 Batch 2:  Loss:0.221517 Accuracy: 0.715200}\n",
      "Epoch 27, CIFAR-10 Batch 3:  Loss:0.179588 Accuracy: 0.704000}\n",
      "Epoch 27, CIFAR-10 Batch 4:  Loss:0.233102 Accuracy: 0.712600}\n",
      "Epoch 27, CIFAR-10 Batch 5:  Loss:0.182834 Accuracy: 0.712400}\n",
      "Epoch 28, CIFAR-10 Batch 1:  Loss:0.280335 Accuracy: 0.705200}\n",
      "Epoch 28, CIFAR-10 Batch 2:  Loss:0.194328 Accuracy: 0.717000}\n",
      "Epoch 28, CIFAR-10 Batch 3:  Loss:0.160491 Accuracy: 0.699200}\n",
      "Epoch 28, CIFAR-10 Batch 4:  Loss:0.207820 Accuracy: 0.719200}\n",
      "Epoch 28, CIFAR-10 Batch 5:  Loss:0.178747 Accuracy: 0.712400}\n",
      "Epoch 29, CIFAR-10 Batch 1:  Loss:0.262121 Accuracy: 0.720400}\n",
      "Epoch 29, CIFAR-10 Batch 2:  Loss:0.178331 Accuracy: 0.720000}\n",
      "Epoch 29, CIFAR-10 Batch 3:  Loss:0.159628 Accuracy: 0.715200}\n",
      "Epoch 29, CIFAR-10 Batch 4:  Loss:0.206051 Accuracy: 0.709800}\n",
      "Epoch 29, CIFAR-10 Batch 5:  Loss:0.192991 Accuracy: 0.703600}\n",
      "Epoch 30, CIFAR-10 Batch 1:  Loss:0.264172 Accuracy: 0.711200}\n",
      "Epoch 30, CIFAR-10 Batch 2:  Loss:0.155996 Accuracy: 0.717800}\n",
      "Epoch 30, CIFAR-10 Batch 3:  Loss:0.137502 Accuracy: 0.717600}\n",
      "Epoch 30, CIFAR-10 Batch 4:  Loss:0.183736 Accuracy: 0.722600}\n",
      "Epoch 30, CIFAR-10 Batch 5:  Loss:0.150610 Accuracy: 0.716400}\n",
      "Epoch 31, CIFAR-10 Batch 1:  Loss:0.228196 Accuracy: 0.710600}\n",
      "Epoch 31, CIFAR-10 Batch 2:  Loss:0.134711 Accuracy: 0.720200}\n",
      "Epoch 31, CIFAR-10 Batch 3:  Loss:0.129395 Accuracy: 0.716800}\n",
      "Epoch 31, CIFAR-10 Batch 4:  Loss:0.155044 Accuracy: 0.724200}\n",
      "Epoch 31, CIFAR-10 Batch 5:  Loss:0.140060 Accuracy: 0.729800}\n",
      "Epoch 32, CIFAR-10 Batch 1:  Loss:0.204528 Accuracy: 0.717000}\n",
      "Epoch 32, CIFAR-10 Batch 2:  Loss:0.165351 Accuracy: 0.722000}\n",
      "Epoch 32, CIFAR-10 Batch 3:  Loss:0.124038 Accuracy: 0.718400}\n",
      "Epoch 32, CIFAR-10 Batch 4:  Loss:0.137083 Accuracy: 0.725000}\n",
      "Epoch 32, CIFAR-10 Batch 5:  Loss:0.129913 Accuracy: 0.724000}\n",
      "Epoch 33, CIFAR-10 Batch 1:  Loss:0.216402 Accuracy: 0.724000}\n",
      "Epoch 33, CIFAR-10 Batch 2:  Loss:0.162373 Accuracy: 0.712800}\n",
      "Epoch 33, CIFAR-10 Batch 3:  Loss:0.113230 Accuracy: 0.720000}\n",
      "Epoch 33, CIFAR-10 Batch 4:  Loss:0.155232 Accuracy: 0.723200}\n",
      "Epoch 33, CIFAR-10 Batch 5:  Loss:0.105276 Accuracy: 0.722400}\n",
      "Epoch 34, CIFAR-10 Batch 1:  Loss:0.199571 Accuracy: 0.717200}\n",
      "Epoch 34, CIFAR-10 Batch 2:  Loss:0.148805 Accuracy: 0.715600}\n",
      "Epoch 34, CIFAR-10 Batch 3:  Loss:0.109502 Accuracy: 0.721000}\n",
      "Epoch 34, CIFAR-10 Batch 4:  Loss:0.136794 Accuracy: 0.735800}\n",
      "Epoch 34, CIFAR-10 Batch 5:  Loss:0.104167 Accuracy: 0.730800}\n",
      "Epoch 35, CIFAR-10 Batch 1:  Loss:0.159840 Accuracy: 0.725200}\n",
      "Epoch 35, CIFAR-10 Batch 2:  Loss:0.136185 Accuracy: 0.709200}\n",
      "Epoch 35, CIFAR-10 Batch 3:  Loss:0.086982 Accuracy: 0.727200}\n",
      "Epoch 35, CIFAR-10 Batch 4:  Loss:0.125713 Accuracy: 0.728200}\n",
      "Epoch 35, CIFAR-10 Batch 5:  Loss:0.107946 Accuracy: 0.735000}\n",
      "Epoch 36, CIFAR-10 Batch 1:  Loss:0.166753 Accuracy: 0.726000}\n",
      "Epoch 36, CIFAR-10 Batch 2:  Loss:0.125326 Accuracy: 0.726000}\n",
      "Epoch 36, CIFAR-10 Batch 3:  Loss:0.102695 Accuracy: 0.719800}\n",
      "Epoch 36, CIFAR-10 Batch 4:  Loss:0.125324 Accuracy: 0.739600}\n",
      "Epoch 36, CIFAR-10 Batch 5:  Loss:0.100470 Accuracy: 0.734200}\n",
      "Epoch 37, CIFAR-10 Batch 1:  Loss:0.175996 Accuracy: 0.731000}\n",
      "Epoch 37, CIFAR-10 Batch 2:  Loss:0.123160 Accuracy: 0.734400}\n",
      "Epoch 37, CIFAR-10 Batch 3:  Loss:0.091700 Accuracy: 0.722000}\n",
      "Epoch 37, CIFAR-10 Batch 4:  Loss:0.109741 Accuracy: 0.735200}\n",
      "Epoch 37, CIFAR-10 Batch 5:  Loss:0.081618 Accuracy: 0.736600}\n",
      "Epoch 38, CIFAR-10 Batch 1:  Loss:0.134971 Accuracy: 0.729000}\n",
      "Epoch 38, CIFAR-10 Batch 2:  Loss:0.096847 Accuracy: 0.730600}\n",
      "Epoch 38, CIFAR-10 Batch 3:  Loss:0.078529 Accuracy: 0.733400}\n",
      "Epoch 38, CIFAR-10 Batch 4:  Loss:0.093101 Accuracy: 0.725200}\n",
      "Epoch 38, CIFAR-10 Batch 5:  Loss:0.082005 Accuracy: 0.741200}\n",
      "Epoch 39, CIFAR-10 Batch 1:  Loss:0.118849 Accuracy: 0.728200}\n",
      "Epoch 39, CIFAR-10 Batch 2:  Loss:0.073088 Accuracy: 0.735000}\n",
      "Epoch 39, CIFAR-10 Batch 3:  Loss:0.067448 Accuracy: 0.726200}\n",
      "Epoch 39, CIFAR-10 Batch 4:  Loss:0.070544 Accuracy: 0.738600}\n",
      "Epoch 39, CIFAR-10 Batch 5:  Loss:0.069548 Accuracy: 0.734000}\n",
      "Epoch 40, CIFAR-10 Batch 1:  Loss:0.109026 Accuracy: 0.730600}\n",
      "Epoch 40, CIFAR-10 Batch 2:  Loss:0.083129 Accuracy: 0.734800}\n",
      "Epoch 40, CIFAR-10 Batch 3:  Loss:0.067380 Accuracy: 0.734600}\n",
      "Epoch 40, CIFAR-10 Batch 4:  Loss:0.073931 Accuracy: 0.739000}\n",
      "Epoch 40, CIFAR-10 Batch 5:  Loss:0.068170 Accuracy: 0.734400}\n",
      "Epoch 41, CIFAR-10 Batch 1:  Loss:0.119043 Accuracy: 0.735200}\n",
      "Epoch 41, CIFAR-10 Batch 2:  Loss:0.087673 Accuracy: 0.732800}\n",
      "Epoch 41, CIFAR-10 Batch 3:  Loss:0.062055 Accuracy: 0.732000}\n",
      "Epoch 41, CIFAR-10 Batch 4:  Loss:0.066427 Accuracy: 0.739200}\n",
      "Epoch 41, CIFAR-10 Batch 5:  Loss:0.063132 Accuracy: 0.746800}\n",
      "Epoch 42, CIFAR-10 Batch 1:  Loss:0.115504 Accuracy: 0.734000}\n",
      "Epoch 42, CIFAR-10 Batch 2:  Loss:0.069373 Accuracy: 0.729600}\n",
      "Epoch 42, CIFAR-10 Batch 3:  Loss:0.060919 Accuracy: 0.735200}\n",
      "Epoch 42, CIFAR-10 Batch 4:  Loss:0.069306 Accuracy: 0.739400}\n",
      "Epoch 42, CIFAR-10 Batch 5:  Loss:0.050468 Accuracy: 0.742800}\n",
      "Epoch 43, CIFAR-10 Batch 1:  Loss:0.102396 Accuracy: 0.742800}\n",
      "Epoch 43, CIFAR-10 Batch 2:  Loss:0.074750 Accuracy: 0.725200}\n",
      "Epoch 43, CIFAR-10 Batch 3:  Loss:0.055744 Accuracy: 0.742400}\n",
      "Epoch 43, CIFAR-10 Batch 4:  Loss:0.062863 Accuracy: 0.742000}\n",
      "Epoch 43, CIFAR-10 Batch 5:  Loss:0.058269 Accuracy: 0.735800}\n",
      "Epoch 44, CIFAR-10 Batch 1:  Loss:0.093799 Accuracy: 0.733400}\n",
      "Epoch 44, CIFAR-10 Batch 2:  Loss:0.060145 Accuracy: 0.735600}\n",
      "Epoch 44, CIFAR-10 Batch 3:  Loss:0.050336 Accuracy: 0.736200}\n",
      "Epoch 44, CIFAR-10 Batch 4:  Loss:0.080569 Accuracy: 0.735600}\n",
      "Epoch 44, CIFAR-10 Batch 5:  Loss:0.054062 Accuracy: 0.741400}\n",
      "Epoch 45, CIFAR-10 Batch 1:  Loss:0.091367 Accuracy: 0.742800}\n",
      "Epoch 45, CIFAR-10 Batch 2:  Loss:0.060884 Accuracy: 0.742200}\n",
      "Epoch 45, CIFAR-10 Batch 3:  Loss:0.047821 Accuracy: 0.733200}\n",
      "Epoch 45, CIFAR-10 Batch 4:  Loss:0.061050 Accuracy: 0.738600}\n",
      "Epoch 45, CIFAR-10 Batch 5:  Loss:0.052207 Accuracy: 0.740400}\n",
      "Epoch 46, CIFAR-10 Batch 1:  Loss:0.082363 Accuracy: 0.731200}\n",
      "Epoch 46, CIFAR-10 Batch 2:  Loss:0.041718 Accuracy: 0.743600}\n",
      "Epoch 46, CIFAR-10 Batch 3:  Loss:0.061048 Accuracy: 0.734000}\n",
      "Epoch 46, CIFAR-10 Batch 4:  Loss:0.070507 Accuracy: 0.746200}\n",
      "Epoch 46, CIFAR-10 Batch 5:  Loss:0.052766 Accuracy: 0.740400}\n",
      "Epoch 47, CIFAR-10 Batch 1:  Loss:0.062753 Accuracy: 0.739400}\n",
      "Epoch 47, CIFAR-10 Batch 2:  Loss:0.051827 Accuracy: 0.741400}\n",
      "Epoch 47, CIFAR-10 Batch 3:  Loss:0.050390 Accuracy: 0.743000}\n",
      "Epoch 47, CIFAR-10 Batch 4:  Loss:0.069094 Accuracy: 0.746400}\n",
      "Epoch 47, CIFAR-10 Batch 5:  Loss:0.041899 Accuracy: 0.739600}\n",
      "Epoch 48, CIFAR-10 Batch 1:  Loss:0.061573 Accuracy: 0.745800}\n",
      "Epoch 48, CIFAR-10 Batch 2:  Loss:0.052330 Accuracy: 0.748000}\n",
      "Epoch 48, CIFAR-10 Batch 3:  Loss:0.045026 Accuracy: 0.737000}\n",
      "Epoch 48, CIFAR-10 Batch 4:  Loss:0.057251 Accuracy: 0.751400}\n",
      "Epoch 48, CIFAR-10 Batch 5:  Loss:0.030436 Accuracy: 0.741800}\n",
      "Epoch 49, CIFAR-10 Batch 1:  Loss:0.078004 Accuracy: 0.744200}\n",
      "Epoch 49, CIFAR-10 Batch 2:  Loss:0.055507 Accuracy: 0.745200}\n",
      "Epoch 49, CIFAR-10 Batch 3:  Loss:0.036819 Accuracy: 0.744800}\n",
      "Epoch 49, CIFAR-10 Batch 4:  Loss:0.047878 Accuracy: 0.750400}\n",
      "Epoch 49, CIFAR-10 Batch 5:  Loss:0.047742 Accuracy: 0.743000}\n",
      "Epoch 50, CIFAR-10 Batch 1:  Loss:0.058534 Accuracy: 0.747000}\n",
      "Epoch 50, CIFAR-10 Batch 2:  Loss:0.049988 Accuracy: 0.734800}\n",
      "Epoch 50, CIFAR-10 Batch 3:  Loss:0.040744 Accuracy: 0.738600}\n",
      "Epoch 50, CIFAR-10 Batch 4:  Loss:0.051466 Accuracy: 0.752000}\n",
      "Epoch 50, CIFAR-10 Batch 5:  Loss:0.037796 Accuracy: 0.748200}\n"
     ]
    }
   ],
   "source": [
    "\"\"\"\n",
    "DON'T MODIFY ANYTHING IN THIS CELL\n",
    "\"\"\"\n",
    "save_model_path = './image_classification'\n",
    "\n",
    "print('Training...')\n",
    "with tf.Session() as sess:\n",
    "    # Initializing the variables\n",
    "    sess.run(tf.global_variables_initializer())\n",
    "    \n",
    "    # Training cycle\n",
    "    for epoch in range(epochs):\n",
    "        # Loop over all batches\n",
    "        n_batches = 5\n",
    "        for batch_i in range(1, n_batches + 1):\n",
    "            for batch_features, batch_labels in helper.load_preprocess_training_batch(batch_i, batch_size):\n",
    "                train_neural_network(sess, optimizer, keep_probability, batch_features, batch_labels)\n",
    "            print('Epoch {:>2}, CIFAR-10 Batch {}:  '.format(epoch + 1, batch_i), end='')\n",
    "            print_stats(sess, batch_features, batch_labels, cost, accuracy)\n",
    "            \n",
    "    # Save Model\n",
    "    saver = tf.train.Saver()\n",
    "    save_path = saver.save(sess, save_model_path)"
   ]
  },
  {
   "cell_type": "markdown",
   "metadata": {},
   "source": [
    "# Checkpoint\n",
    "The model has been saved to disk.\n",
    "## Test Model\n",
    "Test your model against the test dataset.  This will be your final accuracy. You should have an accuracy greater than 50%. If you don't, keep tweaking the model architecture and parameters."
   ]
  },
  {
   "cell_type": "code",
   "execution_count": 40,
   "metadata": {
    "collapsed": false
   },
   "outputs": [
    {
     "name": "stdout",
     "output_type": "stream",
     "text": [
      "INFO:tensorflow:Restoring parameters from ./image_classification\n",
      "Testing Accuracy: 0.73193359375\n",
      "\n"
     ]
    },
    {
     "data": {
      "image/png": "[encoded data removed]",
      "text/plain": [
       "<matplotlib.figure.Figure at 0x12503e668>"
      ]
     },
     "metadata": {
      "image/png": {
       "height": 319,
       "width": 355
      }
     },
     "output_type": "display_data"
    }
   ],
   "source": [
    "\"\"\"\n",
    "DON'T MODIFY ANYTHING IN THIS CELL\n",
    "\"\"\"\n",
    "%matplotlib inline\n",
    "%config InlineBackend.figure_format = 'retina'\n",
    "\n",
    "import tensorflow as tf\n",
    "import pickle\n",
    "import helper\n",
    "import random\n",
    "\n",
    "# Set batch size if not already set\n",
    "try:\n",
    "    if batch_size:\n",
    "        pass\n",
    "except NameError:\n",
    "    batch_size = 64\n",
    "\n",
    "save_model_path = './image_classification'\n",
    "n_samples = 4\n",
    "top_n_predictions = 3\n",
    "\n",
    "def test_model():\n",
    "    \"\"\"\n",
    "    Test the saved model against the test dataset\n",
    "    \"\"\"\n",
    "\n",
    "    test_features, test_labels = pickle.load(open('preprocess_test.p', mode='rb'))\n",
    "    loaded_graph = tf.Graph()\n",
    "\n",
    "    with tf.Session(graph=loaded_graph) as sess:\n",
    "        # Load model\n",
    "        loader = tf.train.import_meta_graph(save_model_path + '.meta')\n",
    "        loader.restore(sess, save_model_path)\n",
    "\n",
    "        # Get Tensors from loaded model\n",
    "        loaded_x = loaded_graph.get_tensor_by_name('x:0')\n",
    "        loaded_y = loaded_graph.get_tensor_by_name('y:0')\n",
    "        loaded_keep_prob = loaded_graph.get_tensor_by_name('keep_prob:0')\n",
    "        loaded_logits = loaded_graph.get_tensor_by_name('logits:0')\n",
    "        loaded_acc = loaded_graph.get_tensor_by_name('accuracy:0')\n",
    "        \n",
    "        # Get accuracy in batches for memory limitations\n",
    "        test_batch_acc_total = 0\n",
    "        test_batch_count = 0\n",
    "        \n",
    "        for test_feature_batch, test_label_batch in helper.batch_features_labels(test_features, test_labels, batch_size):\n",
    "            test_batch_acc_total += sess.run(\n",
    "                loaded_acc,\n",
    "                feed_dict={loaded_x: test_feature_batch, loaded_y: test_label_batch, loaded_keep_prob: 1.0})\n",
    "            test_batch_count += 1\n",
    "\n",
    "        print('Testing Accuracy: {}\\n'.format(test_batch_acc_total/test_batch_count))\n",
    "\n",
    "        # Print Random Samples\n",
    "        random_test_features, random_test_labels = tuple(zip(*random.sample(list(zip(test_features, test_labels)), n_samples)))\n",
    "        random_test_predictions = sess.run(\n",
    "            tf.nn.top_k(tf.nn.softmax(loaded_logits), top_n_predictions),\n",
    "            feed_dict={loaded_x: random_test_features, loaded_y: random_test_labels, loaded_keep_prob: 1.0})\n",
    "        helper.display_image_predictions(random_test_features, random_test_labels, random_test_predictions)\n",
    "\n",
    "\n",
    "test_model()"
   ]
  },
  {
   "cell_type": "markdown",
   "metadata": {},
   "source": [
    "## Why 50-80% Accuracy?\n",
    "You might be wondering why you can't get an accuracy any higher. First things first, 50% isn't bad for a simple CNN.  Pure guessing would get you 10% accuracy. However, you might notice people are getting scores [well above 80%](http://rodrigob.github.io/are_we_there_yet/build/classification_datasets_results.html#43494641522d3130).  That's because we haven't taught you all there is to know about neural networks. We still need to cover a few more techniques.\n",
    "## Submitting This Project\n",
    "When submitting this project, make sure to run all the cells before saving the notebook.  Save the notebook file as \"dlnd_image_classification.ipynb\" and save it as a HTML file under \"File\" -> \"Download as\".  Include the \"helper.py\" and \"problem_unittests.py\" files in your submission."
   ]
  }
 ],
 "metadata": {
  "kernelspec": {
   "display_name": "Python 3",
   "language": "python",
   "name": "python3"
  },
  "language_info": {
   "codemirror_mode": {
    "name": "ipython",
    "version": 3
   },
   "file_extension": ".py",
   "mimetype": "text/x-python",
   "name": "python",
   "nbconvert_exporter": "python",
   "pygments_lexer": "ipython3",
   "version": "3.6.0"
  }
 },
 "nbformat": 4,
 "nbformat_minor": 1
}
